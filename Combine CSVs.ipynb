{
 "cells": [
  {
   "cell_type": "code",
   "execution_count": 19,
   "id": "b8d3d204-5a28-4c99-a99d-a26be1dfcd7c",
   "metadata": {},
   "outputs": [],
   "source": [
    "import glob\n",
    "import pandas as pd\n",
    "import csv"
   ]
  },
  {
   "cell_type": "code",
   "execution_count": 25,
   "id": "72078927-4c76-459d-9e49-97a591db62b5",
   "metadata": {},
   "outputs": [],
   "source": [
    "df_all = pd.read_csv(\"data/california.csv\", skip_blank_lines=True, encoding='unicode_escape')"
   ]
  },
  {
   "cell_type": "code",
   "execution_count": 26,
   "id": "c93e8cfd-701c-43cd-afc5-400aedd52265",
   "metadata": {},
   "outputs": [],
   "source": [
    "df_all = df_all.set_axis(['First', 'Name', 'Date', 'Victims', 'Location'], axis=1)\n",
    "df_all = df_all.drop(\"First\", axis = 1)\n",
    "df_all = df_all[df_all['Victims'].notna()]\n",
    "df_all['Victims'] = df_all['Victims'].str.replace('+', '', regex=False).str.replace('?','', regex=False).str.extract(r'(\\d+)')\n",
    "df_all.Victims = pd.to_numeric(df_all.Victims, errors='coerce')\n",
    "# df_all[df_all['Victims'] >= 3]"
   ]
  },
  {
   "cell_type": "code",
   "execution_count": 27,
   "id": "7b04efef-d3c6-4f2d-bcc9-b4267c557bf2",
   "metadata": {},
   "outputs": [],
   "source": [
    "df_links = pd.read_csv(\"links/california.csv\", skip_blank_lines=True, encoding='unicode_escape', header=None)\n",
    "df_links = df_links.set_axis(['Link'], axis=1)"
   ]
  },
  {
   "cell_type": "code",
   "execution_count": 31,
   "id": "6a4245cb-9a32-4903-aa5a-8223e1a07744",
   "metadata": {},
   "outputs": [
    {
     "data": {
      "text/html": [
       "<div>\n",
       "<style scoped>\n",
       "    .dataframe tbody tr th:only-of-type {\n",
       "        vertical-align: middle;\n",
       "    }\n",
       "\n",
       "    .dataframe tbody tr th {\n",
       "        vertical-align: top;\n",
       "    }\n",
       "\n",
       "    .dataframe thead th {\n",
       "        text-align: right;\n",
       "    }\n",
       "</style>\n",
       "<table border=\"1\" class=\"dataframe\">\n",
       "  <thead>\n",
       "    <tr style=\"text-align: right;\">\n",
       "      <th></th>\n",
       "      <th>Link</th>\n",
       "      <th>tmp</th>\n",
       "    </tr>\n",
       "  </thead>\n",
       "  <tbody>\n",
       "    <tr>\n",
       "      <th>0</th>\n",
       "      <td>https://murderpedia.org/male.A/a/abbott-burton...</td>\n",
       "      <td>1</td>\n",
       "    </tr>\n",
       "    <tr>\n",
       "      <th>1</th>\n",
       "      <td>https://murderpedia.org/male.A/a/acremant-robe...</td>\n",
       "      <td>1</td>\n",
       "    </tr>\n",
       "    <tr>\n",
       "      <th>2</th>\n",
       "      <td>https://murderpedia.org/male.A/a/aguayo-joseph...</td>\n",
       "      <td>1</td>\n",
       "    </tr>\n",
       "    <tr>\n",
       "      <th>3</th>\n",
       "      <td>https://murderpedia.org/male.A/a/alcala-rodney...</td>\n",
       "      <td>1</td>\n",
       "    </tr>\n",
       "    <tr>\n",
       "      <th>4</th>\n",
       "      <td>https://murderpedia.org/male.A/a/alexander-and...</td>\n",
       "      <td>1</td>\n",
       "    </tr>\n",
       "  </tbody>\n",
       "</table>\n",
       "</div>"
      ],
      "text/plain": [
       "                                                Link  tmp\n",
       "0  https://murderpedia.org/male.A/a/abbott-burton...    1\n",
       "1  https://murderpedia.org/male.A/a/acremant-robe...    1\n",
       "2  https://murderpedia.org/male.A/a/aguayo-joseph...    1\n",
       "3  https://murderpedia.org/male.A/a/alcala-rodney...    1\n",
       "4  https://murderpedia.org/male.A/a/alexander-and...    1"
      ]
     },
     "execution_count": 31,
     "metadata": {},
     "output_type": "execute_result"
    }
   ],
   "source": [
    "df_links.head()"
   ]
  },
  {
   "cell_type": "code",
   "execution_count": null,
   "id": "25dd650d-4b72-4d67-9ef0-5307da5c9dcc",
   "metadata": {},
   "outputs": [],
   "source": [
    "def get_name(link):\n",
    "    n = link.split(\"/\")[-1]\n",
    "    print(n)\n",
    "    return "
   ]
  },
  {
   "cell_type": "code",
   "execution_count": 28,
   "id": "a77e2ba2-6ca4-429f-9246-b9bda076d361",
   "metadata": {},
   "outputs": [],
   "source": [
    "df = pd.merge(df_all, df_links, on=['tmp'], how=\"left\")\n",
    "df = df.drop('tmp', axis=1)"
   ]
  },
  {
   "cell_type": "code",
   "execution_count": 30,
   "id": "3a804865-8b79-4158-9416-c616a2df0f98",
   "metadata": {},
   "outputs": [
    {
     "name": "stdout",
     "output_type": "stream",
     "text": [
      "                    Name            Date  Victims         Location  \\\n",
      "0       Burton W. ABBOTT  April 28, 1955      1.0  California, USA   \n",
      "1       Burton W. ABBOTT  April 28, 1955      1.0  California, USA   \n",
      "2       Burton W. ABBOTT  April 28, 1955      1.0  California, USA   \n",
      "3       Burton W. ABBOTT  April 28, 1955      1.0  California, USA   \n",
      "4       Burton W. ABBOTT  April 28, 1955      1.0  California, USA   \n",
      "...                  ...             ...      ...              ...   \n",
      "133585      John ZAWAHRI    June 7, 2013      5.0  California, USA   \n",
      "133586      John ZAWAHRI    June 7, 2013      5.0  California, USA   \n",
      "133587      John ZAWAHRI    June 7, 2013      5.0  California, USA   \n",
      "133588      John ZAWAHRI    June 7, 2013      5.0  California, USA   \n",
      "133589      John ZAWAHRI    June 7, 2013      5.0  California, USA   \n",
      "\n",
      "                                                     Link  \n",
      "0       https://murderpedia.org/male.A/a/abbott-burton...  \n",
      "1       https://murderpedia.org/male.A/a/acremant-robe...  \n",
      "2       https://murderpedia.org/male.A/a/aguayo-joseph...  \n",
      "3       https://murderpedia.org/male.A/a/alcala-rodney...  \n",
      "4       https://murderpedia.org/male.A/a/alexander-and...  \n",
      "...                                                   ...  \n",
      "133585     https://murderpedia.org/male.X/x/xiong-kao.htm  \n",
      "133586  https://murderpedia.org/male.Y/y/yanikian-gour...  \n",
      "133587    https://murderpedia.org/male.Y/y/ying-leung.htm  \n",
      "133588  https://murderpedia.org/male.Z/z/zamastil-will...  \n",
      "133589  https://murderpedia.org/male.Z/z/zawahri-john.htm  \n",
      "\n",
      "[133590 rows x 5 columns]\n"
     ]
    }
   ],
   "source": [
    "print(df)"
   ]
  },
  {
   "cell_type": "code",
   "execution_count": null,
   "id": "04f0d30e-334d-479a-b833-1bbbcffd3679",
   "metadata": {},
   "outputs": [],
   "source": [
    "def combine_csv():\n",
    "    print(\"Combining CSV's START\")\n",
    "    writer = pd.ExcelWriter('Serial_Killers.xlsx')\n",
    "    i = 0\n",
    "    for file_name in glob.glob(\"data/*.csv\"):\n",
    "        i += 1\n",
    "        df = pd.read_csv(file_name, skip_blank_lines=True, encoding='unicode_escape').drop_duplicates()\n",
    "        df_links = pd.read_csv(str(\"links/\" + file_name), encoding='unicode_escape')\n",
    "        df = df.set_axis(['First', 'Name', 'Date', 'Victims', 'Location'], axis=1)\n",
    "        df = df.drop('First', axis = 1)\n",
    "        df = df[df['Victims'].notna()]\n",
    "        df['Victims'] = df['Victims'].str.replace('+', '', regex=False).str.replace('?','', regex=False).str.extract(r'(\\d+)')\n",
    "        df.Victims = pd.to_numeric(df.Victims, errors='coerce')\n",
    "        sheet_name = file_name.split(\"\\\\\")[1].replace(\".csv\",\"\").capitalize()\n",
    "        df.to_excel(writer,sheet_name=sheet_name)\n",
    "    writer._save()\n",
    "    print(i, \" CSV's combined into Serial_Killers.xlsx\")"
   ]
  }
 ],
 "metadata": {
  "kernelspec": {
   "display_name": "Python 3 (ipykernel)",
   "language": "python",
   "name": "python3"
  },
  "language_info": {
   "codemirror_mode": {
    "name": "ipython",
    "version": 3
   },
   "file_extension": ".py",
   "mimetype": "text/x-python",
   "name": "python",
   "nbconvert_exporter": "python",
   "pygments_lexer": "ipython3",
   "version": "3.11.1"
  }
 },
 "nbformat": 4,
 "nbformat_minor": 5
}
